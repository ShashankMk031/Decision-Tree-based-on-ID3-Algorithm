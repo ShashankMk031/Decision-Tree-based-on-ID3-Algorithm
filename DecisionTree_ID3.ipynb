{
 "cells": [
  {
   "cell_type": "code",
   "execution_count": 1,
   "id": "3fce7538",
   "metadata": {},
   "outputs": [],
   "source": [
    "import pandas as pd # manipulating the csv file\n",
    "import numpy as np # for mathematical calculations"
   ]
  },
  {
   "cell_type": "code",
   "execution_count": 2,
   "id": "d20651df",
   "metadata": {},
   "outputs": [
    {
     "data": {
      "text/html": [
       "<div>\n",
       "<style scoped>\n",
       "    .dataframe tbody tr th:only-of-type {\n",
       "        vertical-align: middle;\n",
       "    }\n",
       "\n",
       "    .dataframe tbody tr th {\n",
       "        vertical-align: top;\n",
       "    }\n",
       "\n",
       "    .dataframe thead th {\n",
       "        text-align: right;\n",
       "    }\n",
       "</style>\n",
       "<table border=\"1\" class=\"dataframe\">\n",
       "  <thead>\n",
       "    <tr style=\"text-align: right;\">\n",
       "      <th></th>\n",
       "      <th>Outlook</th>\n",
       "      <th>Temperature</th>\n",
       "      <th>Humidity</th>\n",
       "      <th>Wind</th>\n",
       "      <th>Play Tennis</th>\n",
       "    </tr>\n",
       "  </thead>\n",
       "  <tbody>\n",
       "    <tr>\n",
       "      <th>0</th>\n",
       "      <td>Sunny</td>\n",
       "      <td>Hot</td>\n",
       "      <td>High</td>\n",
       "      <td>Weak</td>\n",
       "      <td>No</td>\n",
       "    </tr>\n",
       "    <tr>\n",
       "      <th>1</th>\n",
       "      <td>Sunny</td>\n",
       "      <td>Hot</td>\n",
       "      <td>High</td>\n",
       "      <td>Strong</td>\n",
       "      <td>No</td>\n",
       "    </tr>\n",
       "    <tr>\n",
       "      <th>2</th>\n",
       "      <td>Overcast</td>\n",
       "      <td>Hot</td>\n",
       "      <td>High</td>\n",
       "      <td>Weak</td>\n",
       "      <td>Yes</td>\n",
       "    </tr>\n",
       "    <tr>\n",
       "      <th>3</th>\n",
       "      <td>Rain</td>\n",
       "      <td>Mild</td>\n",
       "      <td>High</td>\n",
       "      <td>Weak</td>\n",
       "      <td>Yes</td>\n",
       "    </tr>\n",
       "    <tr>\n",
       "      <th>4</th>\n",
       "      <td>Rain</td>\n",
       "      <td>Cool</td>\n",
       "      <td>Normal</td>\n",
       "      <td>Weak</td>\n",
       "      <td>Yes</td>\n",
       "    </tr>\n",
       "  </tbody>\n",
       "</table>\n",
       "</div>"
      ],
      "text/plain": [
       "    Outlook Temperature Humidity    Wind Play Tennis\n",
       "0     Sunny         Hot     High    Weak          No\n",
       "1     Sunny         Hot     High  Strong          No\n",
       "2  Overcast         Hot     High    Weak         Yes\n",
       "3      Rain        Mild     High    Weak         Yes\n",
       "4      Rain        Cool   Normal    Weak         Yes"
      ]
     },
     "execution_count": 2,
     "metadata": {},
     "output_type": "execute_result"
    }
   ],
   "source": [
    "train_data_m = pd.read_csv(\"PlayTennis.csv\") \n",
    "train_data_m.head() "
   ]
  },
  {
   "cell_type": "code",
   "execution_count": 3,
   "id": "3647851f",
   "metadata": {},
   "outputs": [],
   "source": [
    "#Calculate the entropy of the whole dataset\n",
    "\n",
    "def calc_entropy(train_data, label, class_list):\n",
    "  total_row = train_data.shape[0] #the shape of the data is a tuple.\n",
    "  total_entr = 0\n",
    "  for c in class_list:\n",
    "    total_class_count = train_data[train_data[label]==c].shape[0]\n",
    "    total_class_entr = - (total_class_count/total_row)*np.log2(total_class_count/total_row)\n",
    "    total_entr += total_class_entr\n",
    "  return total_entr"
   ]
  },
  {
   "cell_type": "code",
   "execution_count": 4,
   "id": "e43b0ba3",
   "metadata": {},
   "outputs": [],
   "source": [
    "# Calculate entropy for individual features\n",
    "\n",
    "def calc_entropy_feature(feature_value_data, label, class_list):\n",
    "  class_count = feature_value_data.shape[0]\n",
    "  entropy = 0\n",
    "  for c in class_list:\n",
    "    label_count_class = feature_value_data[feature_value_data[label]==c].shape[0]\n",
    "    entropy_class = 0\n",
    "    if label_count_class != 0:\n",
    "      probability_class = label_count_class/class_count\n",
    "      entropy_class = - probability_class * np.log2(probability_class)\n",
    "    entropy += entropy_class\n",
    "  return entropy"
   ]
  },
  {
   "cell_type": "code",
   "execution_count": 5,
   "id": "4f799ab1",
   "metadata": {},
   "outputs": [],
   "source": [
    "# Calculating IG for a feature\n",
    "\n",
    "def calc_ig(feature_name, train_data, label, class_list):\n",
    "  feature_value_list = train_data[feature_name].unique()\n",
    "  feature_row = train_data.shape[0]\n",
    "  feature_info = 0.0\n",
    "\n",
    "  for feature_value in feature_value_list:\n",
    "    feature_value_data = train_data[train_data[feature_name]==feature_value]\n",
    "    feature_value_count = feature_value_data.shape[0]\n",
    "    feature_value_entropy = calc_entropy_feature(feature_value_data, label, class_list)\n",
    "    feature_value_probability = feature_value_count/feature_row\n",
    "    feature_info += feature_value_probability * feature_value_entropy\n",
    "\n",
    "  return calc_entropy(train_data, label, class_list) - feature_info"
   ]
  },
  {
   "cell_type": "code",
   "execution_count": 6,
   "id": "481d1faf",
   "metadata": {},
   "outputs": [],
   "source": [
    "# Find the highest information gain feature\n",
    "\n",
    "def highest_ig(train_data, label, class_list):\n",
    "  feature_list = train_data.columns.drop(label)\n",
    "  max_info_gain = -1\n",
    "  max_info_feature = None\n",
    "\n",
    "  for feature in feature_list:\n",
    "    feature_info_gain = calc_ig(feature, train_data, label, class_list)\n",
    "    if max_info_gain < feature_info_gain:\n",
    "      max_info_gain = feature_info_gain\n",
    "      max_info_feature = feature\n",
    "\n",
    "  return max_info_feature"
   ]
  },
  {
   "cell_type": "code",
   "execution_count": 7,
   "id": "f6179328",
   "metadata": {},
   "outputs": [],
   "source": [
    "# Adding a node or a subclass to the tree\n",
    "\n",
    "def subtree(feature_name, train_data, label, class_list):\n",
    "  feature_value_count = train_data[feature_name].value_counts(sort=False)\n",
    "  tree = {}\n",
    "\n",
    "  for feature_value, count in feature_value_count.items():\n",
    "    feature_value_data = train_data[train_data[feature_name]==feature_value]\n",
    "    assigned_to_node = False\n",
    "\n",
    "    for c in class_list:\n",
    "      class_count = feature_value_data[feature_value_data[label]==c].shape[0]\n",
    "\n",
    "      if class_count == count:\n",
    "        tree[feature_value] = c\n",
    "        train_data = train_data[train_data[feature_name]!=feature_value]\n",
    "        assigned_to_node = True\n",
    "\n",
    "    if not assigned_to_node:\n",
    "      tree[feature_value] = \"?\"\n",
    "\n",
    "  return tree, train_data"
   ]
  },
  {
   "cell_type": "code",
   "execution_count": 8,
   "id": "bce1f453",
   "metadata": {},
   "outputs": [],
   "source": [
    "# Generating tree\n",
    "\n",
    "def generate_tree(root, prev_feature_value, train_data, label, class_list):\n",
    "  if train_data.shape[0]!=0:\n",
    "    max_info_feature = highest_ig(train_data, label, class_list)\n",
    "    tree, train_data = subtree(max_info_feature, train_data, label, class_list)\n",
    "    next_root = None\n",
    "\n",
    "    if prev_feature_value!=None:\n",
    "      root[prev_feature_value] = dict()\n",
    "      root[prev_feature_value][max_info_feature] = tree\n",
    "      next_root = root[prev_feature_value][max_info_feature]\n",
    "\n",
    "    else:\n",
    "      root[max_info_feature] = tree\n",
    "      next_root = root[max_info_feature]\n",
    "\n",
    "    for node, branch in list(next_root.items()):\n",
    "      if branch == '?':\n",
    "        feature_value_data = train_data[train_data[max_info_feature] == node]\n",
    "        generate_tree(next_root, node, feature_value_data, label, class_list)"
   ]
  },
  {
   "cell_type": "code",
   "execution_count": 9,
   "id": "bbd4c972",
   "metadata": {},
   "outputs": [],
   "source": [
    "#Create a ID3 algorithm\n",
    "\n",
    "def id3(train_data_m, label):\n",
    "  train_data = train_data_m.copy()\n",
    "  tree = {}\n",
    "  class_list = train_data[label].unique()\n",
    "  generate_tree(tree, None, train_data, label, class_list)\n",
    "  return tree"
   ]
  },
  {
   "cell_type": "code",
   "execution_count": 10,
   "id": "3f841be7",
   "metadata": {},
   "outputs": [
    {
     "name": "stdout",
     "output_type": "stream",
     "text": [
      "{'Outlook': {'Sunny': {'Humidity': {'High': 'No', 'Normal': 'Yes'}}, 'Overcast': 'Yes', 'Rain': {'Wind': {'Weak': 'Yes', 'Strong': 'No'}}}}\n"
     ]
    }
   ],
   "source": [
    "# Start the id3\n",
    "\n",
    "tree = id3(train_data_m,'Play Tennis')\n",
    "print(tree)"
   ]
  },
  {
   "cell_type": "code",
   "execution_count": 11,
   "id": "21210a8b",
   "metadata": {},
   "outputs": [],
   "source": [
    "# Predict the result from the tree\n",
    "\n",
    "def predict(tree, instance):\n",
    "  if not isinstance(tree, dict):\n",
    "    return tree\n",
    "  else:\n",
    "    root_node = next(iter(tree))\n",
    "    feature_value = instance[root_node]\n",
    "    if feature_value in tree[root_node]:\n",
    "      return predict(tree[root_node][feature_value], instance)\n",
    "    else:\n",
    "      return None"
   ]
  },
  {
   "cell_type": "code",
   "execution_count": 12,
   "id": "3343c8f2",
   "metadata": {},
   "outputs": [],
   "source": [
    "def evaluate(tree, test_data_m, label):\n",
    "    correct_preditct = 0\n",
    "    wrong_preditct = 0\n",
    "    for index, row in test_data_m.iterrows():\n",
    "        result = predict(tree, test_data_m.iloc[index])\n",
    "        if result == test_data_m[label].iloc[index]:\n",
    "            correct_preditct += 1\n",
    "        else:\n",
    "            wrong_preditct += 1\n",
    "    accuracy = correct_preditct / (correct_preditct + wrong_preditct)\n",
    "    return accuracy"
   ]
  },
  {
   "cell_type": "code",
   "execution_count": 13,
   "id": "98131fb5",
   "metadata": {},
   "outputs": [
    {
     "name": "stdout",
     "output_type": "stream",
     "text": [
      "Accuracy:  1.0\n"
     ]
    }
   ],
   "source": [
    "\n",
    "test_data_m = pd.read_csv(\"PlayTennis.csv\") #importing test dataset into dataframe\n",
    "\n",
    "accuracy = evaluate(tree, test_data_m, 'Play Tennis') \n",
    "print(\"Accuracy: \", accuracy)"
   ]
  },
  {
   "cell_type": "code",
   "execution_count": 14,
   "id": "0a7c1f2a",
   "metadata": {},
   "outputs": [],
   "source": [
    "from graphviz import Digraph\n",
    "\n",
    "def add_nodes_edges(tree, dot=None):\n",
    "    # Create Digraph object\n",
    "    if dot is None:\n",
    "        dot = Digraph()\n",
    "        dot.node('root', str(next(iter(tree))), shape='box', style='filled', fillcolor='lightblue')\n",
    "    \n",
    "    # Root node\n",
    "    root = next(iter(tree))\n",
    "    \n",
    "    for node, children in tree.items():\n",
    "        if isinstance(children, dict):\n",
    "            for value, child in children.items():\n",
    "                if isinstance(child, dict):\n",
    "                    # Add node\n",
    "                    child_node = next(iter(child))\n",
    "                    dot.node(str(child_node), str(child_node), shape='box', style='filled', fillcolor='lightblue')\n",
    "                    # Add edge\n",
    "                    dot.edge(str(node), str(child_node), label=str(value))\n",
    "                    # Recursively add the rest of the nodes\n",
    "                    add_nodes_edges(child, dot)\n",
    "                else:\n",
    "                    # Add leaf node\n",
    "                    leaf_node = f\"{node}_{value}_{child}\"\n",
    "                    dot.node(leaf_node, str(child), shape='ellipse', style='filled', fillcolor='lightgreen')\n",
    "                    dot.edge(str(node), leaf_node, label=str(value))\n",
    "    return dot\n",
    "\n",
    "def plot_decision_tree(tree, filename='decision_tree'):\n",
    "    dot = add_nodes_edges(tree)\n",
    "    dot.format = 'png'\n",
    "    dot.render(filename, view=True)\n",
    "    return dot"
   ]
  },
  {
   "cell_type": "code",
   "execution_count": 16,
   "id": "f578acd0",
   "metadata": {},
   "outputs": [
    {
     "data": {
      "image/png": "[encoded data removed]",
      "text/plain": [
       "<IPython.core.display.Image object>"
      ]
     },
     "execution_count": 16,
     "metadata": {},
     "output_type": "execute_result"
    }
   ],
   "source": [
    "from IPython.display import Image\n",
    "Image(dot.render('decision_tree', format='png'))"
   ]
  },
  {
   "cell_type": "code",
   "execution_count": null,
   "id": "ad452edc",
   "metadata": {},
   "outputs": [],
   "source": []
  }
 ],
 "metadata": {
  "kernelspec": {
   "display_name": "Python 3",
   "language": "python",
   "name": "python3"
  },
  "language_info": {
   "codemirror_mode": {
    "name": "ipython",
    "version": 3
   },
   "file_extension": ".py",
   "mimetype": "text/x-python",
   "name": "python",
   "nbconvert_exporter": "python",
   "pygments_lexer": "ipython3",
   "version": "3.12.3"
  }
 },
 "nbformat": 4,
 "nbformat_minor": 5
}
